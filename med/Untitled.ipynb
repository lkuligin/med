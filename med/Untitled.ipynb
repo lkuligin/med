{
 "cells": [
  {
   "cell_type": "code",
   "execution_count": 3,
   "id": "8715ea95-bce1-4510-beba-9160b4c2ec38",
   "metadata": {},
   "outputs": [],
   "source": [
    "from datasets import load_dataset"
   ]
  },
  {
   "cell_type": "code",
   "execution_count": 4,
   "id": "f0e5e916-d21c-4c8e-a486-b5e8713f9e68",
   "metadata": {},
   "outputs": [
    {
     "data": {
      "application/vnd.jupyter.widget-view+json": {
       "model_id": "c84785a414194da193403e40d6814d6d",
       "version_major": 2,
       "version_minor": 0
      },
      "text/plain": [
       "Downloading builder script:   0%|          | 0.00/11.1k [00:00<?, ?B/s]"
      ]
     },
     "metadata": {},
     "output_type": "display_data"
    },
    {
     "data": {
      "application/vnd.jupyter.widget-view+json": {
       "model_id": "14ef4274c2344ff8be04755434ef8df4",
       "version_major": 2,
       "version_minor": 0
      },
      "text/plain": [
       "Downloading readme:   0%|          | 0.00/1.44k [00:00<?, ?B/s]"
      ]
     },
     "metadata": {},
     "output_type": "display_data"
    },
    {
     "data": {
      "application/vnd.jupyter.widget-view+json": {
       "model_id": "9bc0ee5a929543bb9fd9f5052fbc5517",
       "version_major": 2,
       "version_minor": 0
      },
      "text/plain": [
       "Downloading extra modules:   0%|          | 0.00/19.3k [00:00<?, ?B/s]"
      ]
     },
     "metadata": {},
     "output_type": "display_data"
    },
    {
     "name": "stdin",
     "output_type": "stream",
     "text": [
      "The repository for bigbio/med_qa contains custom code which must be executed to correctly load the dataset. You can inspect the repository content at https://hf.co/datasets/bigbio/med_qa.\n",
      "You can avoid this prompt in future by passing the argument `trust_remote_code=True`.\n",
      "\n",
      "Do you wish to run the custom code? [y/N]  y\n"
     ]
    },
    {
     "data": {
      "application/vnd.jupyter.widget-view+json": {
       "model_id": "a29826f3ea2b4e0c8de457ec708ab06e",
       "version_major": 2,
       "version_minor": 0
      },
      "text/plain": [
       "Downloading data:   0%|          | 0.00/132M [00:00<?, ?B/s]"
      ]
     },
     "metadata": {},
     "output_type": "display_data"
    },
    {
     "data": {
      "application/vnd.jupyter.widget-view+json": {
       "model_id": "c09031eed1aa455ca298cceae427c9b1",
       "version_major": 2,
       "version_minor": 0
      },
      "text/plain": [
       "Generating train split: 0 examples [00:00, ? examples/s]"
      ]
     },
     "metadata": {},
     "output_type": "display_data"
    },
    {
     "name": "stdout",
     "output_type": "stream",
     "text": [
      "/home/user/.cache/huggingface/datasets/downloads/extracted/ee78c2cc7eb8da412ba25502addea70d4505c19bc938a81c4dffe2d11e40f58d/data_clean/questions/US/train.jsonl\n"
     ]
    },
    {
     "data": {
      "application/vnd.jupyter.widget-view+json": {
       "model_id": "7a94c58f6f134478bc0e00e9b8c3e66a",
       "version_major": 2,
       "version_minor": 0
      },
      "text/plain": [
       "Generating test split: 0 examples [00:00, ? examples/s]"
      ]
     },
     "metadata": {},
     "output_type": "display_data"
    },
    {
     "name": "stdout",
     "output_type": "stream",
     "text": [
      "/home/user/.cache/huggingface/datasets/downloads/extracted/ee78c2cc7eb8da412ba25502addea70d4505c19bc938a81c4dffe2d11e40f58d/data_clean/questions/US/test.jsonl\n"
     ]
    },
    {
     "data": {
      "application/vnd.jupyter.widget-view+json": {
       "model_id": "eb7faf125010490295312e87d0c9b9be",
       "version_major": 2,
       "version_minor": 0
      },
      "text/plain": [
       "Generating validation split: 0 examples [00:00, ? examples/s]"
      ]
     },
     "metadata": {},
     "output_type": "display_data"
    },
    {
     "name": "stdout",
     "output_type": "stream",
     "text": [
      "/home/user/.cache/huggingface/datasets/downloads/extracted/ee78c2cc7eb8da412ba25502addea70d4505c19bc938a81c4dffe2d11e40f58d/data_clean/questions/US/dev.jsonl\n"
     ]
    }
   ],
   "source": [
    "med_qa = load_dataset(\"bigbio/med_qa\")"
   ]
  },
  {
   "cell_type": "code",
   "execution_count": 7,
   "id": "61992b3b-2a0c-4e3f-912f-4e05057fff48",
   "metadata": {},
   "outputs": [],
   "source": [
    "med_qa_train = {\"questions\": [entry for entry in med_qa[\"train\"]]}"
   ]
  },
  {
   "cell_type": "code",
   "execution_count": 12,
   "id": "089e35b8-4d18-46e1-b68b-d603453d7763",
   "metadata": {},
   "outputs": [],
   "source": [
    "import json\n",
    "\n",
    "with open(\"med_qa_train.json\", \"w\") as json_file:\n",
    "    json.dump(med_qa_train, json_file, indent=4)"
   ]
  },
  {
   "cell_type": "code",
   "execution_count": null,
   "id": "66939b7a-6c14-4572-8119-bad9b932021c",
   "metadata": {},
   "outputs": [],
   "source": []
  }
 ],
 "metadata": {
  "kernelspec": {
   "display_name": "Python 3 (ipykernel)",
   "language": "python",
   "name": "python3"
  },
  "language_info": {
   "codemirror_mode": {
    "name": "ipython",
    "version": 3
   },
   "file_extension": ".py",
   "mimetype": "text/x-python",
   "name": "python",
   "nbconvert_exporter": "python",
   "pygments_lexer": "ipython3",
   "version": "3.10.12"
  }
 },
 "nbformat": 4,
 "nbformat_minor": 5
}
